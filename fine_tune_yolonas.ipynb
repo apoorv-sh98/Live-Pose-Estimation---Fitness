{
 "cells": [
  {
   "cell_type": "code",
   "execution_count": 5,
   "metadata": {},
   "outputs": [],
   "source": [
    "import scipy.io\n",
    "mat = scipy.io.loadmat('mpii_human_pose_v1_u12_1.mat')"
   ]
  },
  {
   "cell_type": "code",
   "execution_count": 6,
   "metadata": {},
   "outputs": [],
   "source": [
    "mdata = mat['RELEASE']\n",
    "mdtype = mdata.dtype\n",
    "ndata = {n: mdata[n][0,0] for n in mdtype.names}\n",
    "annots = [n for n, v in ndata.items()]"
   ]
  },
  {
   "cell_type": "code",
   "execution_count": 7,
   "metadata": {},
   "outputs": [
    {
     "name": "stdout",
     "output_type": "stream",
     "text": [
      "['annolist', 'img_train', 'version', 'single_person', 'act', 'video_list']\n"
     ]
    }
   ],
   "source": [
    "print(annots)"
   ]
  },
  {
   "cell_type": "code",
   "execution_count": 8,
   "metadata": {},
   "outputs": [
    {
     "name": "stdout",
     "output_type": "stream",
     "text": [
      "(1, 24987)\n"
     ]
    }
   ],
   "source": [
    "annolist = ndata['annolist']\n",
    "print(annolist.shape)"
   ]
  },
  {
   "cell_type": "code",
   "execution_count": 9,
   "metadata": {},
   "outputs": [
    {
     "name": "stdout",
     "output_type": "stream",
     "text": [
      "0\n"
     ]
    }
   ],
   "source": [
    "actL = ndata['img_train']\n",
    "print(actL[0,11])"
   ]
  },
  {
   "cell_type": "code",
   "execution_count": 10,
   "metadata": {},
   "outputs": [
    {
     "name": "stdout",
     "output_type": "stream",
     "text": [
      "[(array(['sports'], dtype='<U6'), array(['curling'], dtype='<U7'), array([[1]], dtype=uint8))]\n"
     ]
    }
   ],
   "source": [
    "actL = ndata['act']\n",
    "print(actL[10])"
   ]
  },
  {
   "cell_type": "code",
   "execution_count": 2,
   "metadata": {},
   "outputs": [],
   "source": [
    "import json\n",
    "import numpy as np"
   ]
  },
  {
   "cell_type": "code",
   "execution_count": 16,
   "metadata": {},
   "outputs": [
    {
     "name": "stdout",
     "output_type": "stream",
     "text": [
      "mpii-annotations-json/063414214.json\n",
      "{'name': '063414214.jpg', 'ax': [263, 263.4618, 168.5382, 415, 426, 374, 340, 331, 317, 285, 240, 258, 268], 'ay': [115, 115.1277, 88.8723, 397, 223, 205, 387, 238, 124, 90, 140, 258, 366], 'j_ids': [7, 8, 9, 1, 2, 4, 5, 10, 11, 12, 13, 14, 15]}\n",
      "mpii-annotations-json/094316313.json\n",
      "{'name': '094316313.jpg', 'ax': [313, 273, 266.8988, 254.1012, 188, 193, 280, 346, 373, 379, 217, 228, 231, 314, 327, 333], 'ay': [268, 186, 149.6368, 73.3632, 392, 302, 267, 268, 325, 433, 332, 268, 190, 182, 275, 347], 'j_ids': [6, 7, 8, 9, 0, 1, 2, 3, 4, 5, 10, 11, 12, 13, 14, 15]}\n",
      "mpii-annotations-json/041077709.json\n",
      "{'name': '041077709.jpg', 'ax': [252, 261, 258.9159, 253.0841, 221, 203, 220, 283, 292, 311, 163, 188, 208, 313, 325, 330], 'ay': [226, 96, 70.1571, -2.1571, 426, 326, 223, 228, 353, 448, 246, 174, 91, 100, 192, 276], 'j_ids': [6, 7, 8, 9, 0, 1, 2, 3, 4, 5, 10, 11, 12, 13, 14, 15]}\n",
      "mpii-annotations-json/018124781.json\n",
      "{'name': '018124781.jpg', 'ax': [531, 610, 631.2328, 701.7672, 559, 503, 750, 625, 661, 559, 448, 522], 'ay': [594, 334, 301.4932, 193.5068, 613, 574, 388, 501, 346, 322, 413, 319], 'j_ids': [6, 7, 8, 9, 2, 3, 10, 11, 12, 13, 14, 15]}\n",
      "mpii-annotations-json/099503123.json\n",
      "{'name': '099503123.jpg', 'ax': [722, 447, 426.7616, 286.2384, 857, 754, 692, 752, 886, 1039, 353, 361, 379, 514, 520, 528], 'ay': [325, 243, 224.6624, 97.3376, 338, 441, 355, 295, 475, 377, 499, 388, 239, 247, 458, 640], 'j_ids': [6, 7, 8, 9, 0, 1, 2, 3, 4, 5, 10, 11, 12, 13, 14, 15]}\n",
      "mpii-annotations-json/005061084.json\n",
      "{'name': '005061084.jpg', 'ax': [699, 643, 641.7476, 638.2524, 622, 626, 665, 732, 716, 730, 579, 592, 587, 698, 718, 679], 'ay': [359, 226, 188.6381, 84.3619, 598, 456, 360, 358, 492, 629, 415, 313, 221, 231, 333, 421], 'j_ids': [6, 7, 8, 9, 0, 1, 2, 3, 4, 5, 10, 11, 12, 13, 14, 15]}\n",
      "60\n"
     ]
    }
   ],
   "source": [
    "count = 0\n",
    "imgc = 0\n",
    "randlist = np.random.randint(1, 75, 6)\n",
    "for i,act in enumerate(actL):\n",
    "    tempvar = act['cat_name'][0]\n",
    "    if len(tempvar) == 0:\n",
    "        continue\n",
    "    tempvar = tempvar.item()\n",
    "    if tempvar == \"conditioning exercise\":\n",
    "        tempact = act['act_name'][0].item()\n",
    "        if tempact == \"home exercise, general\" or tempact == \"weight lifting, power lifting\":\n",
    "            count += 1\n",
    "            annodict = {\n",
    "                \"name\": \"\",\n",
    "                \"ax\": [],\n",
    "                \"ay\": [],\n",
    "                \"j_ids\": []\n",
    "            }\n",
    "            if count not in randlist:\n",
    "                continue\n",
    "            imgc += 1\n",
    "            tempanno = annolist[0, i]\n",
    "            tempannodtype = tempanno.dtype\n",
    "            fname = tempanno['image']['name'].item().item()\n",
    "            annodict['name'] = fname\n",
    "            annorect = tempanno['annorect']['annopoints'].item()['point'].item()\n",
    "            a_x = annorect['x'].reshape(-1)\n",
    "            a_y = annorect['y'].reshape(-1)\n",
    "            t_ids = annorect['id'].reshape(-1)\n",
    "            ax = [n.item() for n in a_x]\n",
    "            ay = [n.item() for n in a_y]\n",
    "            ids = [n.item() for n in t_ids]\n",
    "            annodict['ax'] = ax\n",
    "            annodict['ay'] = ay\n",
    "            annodict['j_ids'] = ids\n",
    "            file_name = f\"{fname.split('.')[0]}.json\"\n",
    "            json_path = f\"mpii-annotations-json/{file_name}\"\n",
    "            print(json_path)\n",
    "            print(annodict)\n",
    "            with open(json_path, \"w\") as f:\n",
    "                json.dump(annodict, f)\n",
    "    if imgc == 6:\n",
    "        break\n",
    "print(count)"
   ]
  },
  {
   "cell_type": "code",
   "execution_count": 50,
   "metadata": {},
   "outputs": [
    {
     "name": "stdout",
     "output_type": "stream",
     "text": [
      "(array([[(array(['037454012.jpg'], dtype='<U13'),)]], dtype=[('name', 'O')]), array([[(array([[3.88073395]]), array([[(array([[601]], dtype=uint16), array([[380]], dtype=uint16))]],\n",
      "              dtype=[('x', 'O'), ('y', 'O')]))                                                         ]],\n",
      "      dtype=[('scale', 'O'), ('objpos', 'O')]), array([], shape=(1, 0), dtype=float64), array([], shape=(1, 0), dtype=float64))\n"
     ]
    }
   ],
   "source": [
    "for k in mat['RELEASE'][0][0]:\n",
    "    for i in k:\n",
    "        print(i[0])\n",
    "    break"
   ]
  },
  {
   "cell_type": "code",
   "execution_count": null,
   "metadata": {},
   "outputs": [],
   "source": []
  }
 ],
 "metadata": {
  "kernelspec": {
   "display_name": "base",
   "language": "python",
   "name": "python3"
  },
  "language_info": {
   "codemirror_mode": {
    "name": "ipython",
    "version": 3
   },
   "file_extension": ".py",
   "mimetype": "text/x-python",
   "name": "python",
   "nbconvert_exporter": "python",
   "pygments_lexer": "ipython3",
   "version": "3.9.12"
  },
  "orig_nbformat": 4
 },
 "nbformat": 4,
 "nbformat_minor": 2
}
